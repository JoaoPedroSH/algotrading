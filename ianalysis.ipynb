import pandas as pd
import numpy as np
from datetime import datetime, timedelta
import matplotlib.pyplot as plt
import time
import MetaTrader5 as mt5  # Importando MetaTrader5
import winsound
import os

class AlertSystem:
    @staticmethod
    def play_sound():
        """Toca um som de alerta, adaptando-se ao sistema operacional."""
        try:
            print('\a')
            winsound.Beep(1000, 1000)  # Frequência de 1000Hz por 1 segundo
        except:
            print('\a')  # Fallback para sistemas não-Windows

class BollingerBands:
    def __init__(self, data, window=20, num_std=2):
        self.data = data
        self.window = window
        self.num_std = num_std
        self.calculate_bands()

    def calculate_bands(self):
        """Calcula as Bandas de Bollinger."""
        self.data['SMA20'] = self.data['close'].rolling(window=self.window).mean()
        self.data['STD20'] = self.data['close'].rolling(window=self.window).std()
        self.data['Upper_Band'] = self.data['SMA20'] + (self.data['STD20'] * self.num_std)
        self.data['Lower_Band'] = self.data['SMA20'] - (self.data['STD20'] * self.num_std)

    def get_current_values(self):
        """Retorna os valores atuais das bandas e preço."""
        return {
            'price': float(self.data['close'].iloc[-1]),
            'upper': float(self.data['Upper_Band'].iloc[-1]),
            'lower': float(self.data['Lower_Band'].iloc[-1]),
            'sma': float(self.data['SMA20'].iloc[-1])
        }

class MarketAnalyzer:
    def __init__(self, symbol='WIN$', interval=mt5.TIMEFRAME_M5, days=60):
        self.symbol = symbol
        self.interval = interval
        self.days = days
        self.alert_system = AlertSystem()
        
        # Inicializa conexão com MetaTrader5
        if not mt5.initialize():
            print("Inicialização do MetaTrader5 falhou")
            quit()

    def fetch_data(self):
        """Busca dados do mercado usando MetaTrader5."""
        end_date = datetime.now()
        start_date = end_date - timedelta(days=self.days)
        
        # Obtém os dados do MT5
        rates = mt5.copy_rates_range(self.symbol, self.interval, start_date, end_date)
        
        # Converte para DataFrame
        df = pd.DataFrame(rates)
        df['time'] = pd.to_datetime(df['time'], unit='s')
        df.set_index('time', inplace=True)
        
        if len(df) > 0:
            return df
        else:
            # Tenta buscar dados em timeframe diário se não encontrar no timeframe menor
            rates = mt5.copy_rates_range(self.symbol, mt5.TIMEFRAME_D1, start_date, end_date)
            df = pd.DataFrame(rates)
            df['time'] = pd.to_datetime(df['time'], unit='s')
            df.set_index('time', inplace=True)
            return df

    def plot_analysis(self, data):
        """Plota o gráfico com as Bandas de Bollinger."""
        plt.clf()
        plt.figure(figsize=(12, 6))
        plt.plot(data.index, data['close'], label='Price')
        plt.plot(data.index, data['SMA20'], label='SMA 20', color='orange')
        plt.plot(data.index, data['Upper_Band'], label='Upper Band', color='red')
        plt.plot(data.index, data['Lower_Band'], label='Lower Band', color='green')
        title = 'Mini Índice' if self.symbol == 'WIN$' else 'Mini Dólar'
        plt.title(f'{title} - Bollinger Bands Analysis')
        plt.xlabel('Date')
        plt.ylabel('Price')
        plt.legend()
        plt.grid(True)
        plt.show()

    def generate_signal(self, values):
        """Gera o sinal de trading baseado nos valores atuais."""
        if values['price'] > values['upper']:
            return "VENDER - Preço acima da banda superior, indicando sobrecompra", True
        elif values['price'] < values['lower']:
            return "COMPRAR - Preço abaixo da banda inferior, indicando sobrevenda", True
        return "AGUARDAR - Preço entre as bandas, sem sinal claro de compra ou venda", False

    def print_analysis(self, values, signal):
        """Imprime a análise atual."""
        title = 'Mini Índice' if self.symbol == 'WIN$' else 'Mini Dólar'
        print(f"\nAnálise atual do {title} - {datetime.now().strftime('%Y-%m-%d %H:%M:%S')}")
        print(f"Preço atual: {values['price']:.2f}")
        print(f"Banda superior: {values['upper']:.2f}")
        print(f"Média móvel (20 períodos): {values['sma']:.2f}")
        print(f"Banda inferior: {values['lower']:.2f}")
        print(f"\nSinal: {signal}")

    def analyze(self):
        """Realiza a análise completa do mercado."""
        try:
            data = self.fetch_data()
            if len(data) > 0:
                bollinger = BollingerBands(data)
                values = bollinger.get_current_values()
                signal, should_alert = self.generate_signal(values)
                
                self.plot_analysis(data)
                self.print_analysis(values, signal)
                if should_alert:
                    self.alert_system.play_sound()
            else:
                print(f"Não foi possível obter dados para o {self.symbol}.")
        except Exception as e:
            print(f"Erro na análise: {str(e)}")

    def __del__(self):
        """Destrutor da classe - garante que a conexão com MT5 seja fechada."""
        mt5.shutdown()

class MarketMonitor:
    def __init__(self, analyzers):
        self.analyzers = analyzers

    def run(self):
        """Executa o monitoramento contínuo do mercado."""
        try:
            while True:
                for analyzer in self.analyzers:
                    analyzer.analyze()
                print("\nAguardando 5 minutos para próxima atualização...")
                time.sleep(300)
        except KeyboardInterrupt:
            print("\nMonitoramento interrompido pelo usuário.")

if __name__ == "__main__":
    # Criando analisadores para Mini Índice e Mini Dólar
    indice_analyzer = MarketAnalyzer(symbol='WIN$')
    dolar_analyzer = MarketAnalyzer(symbol='WDO$')
    
    # Monitorando ambos os ativos
    monitor = MarketMonitor([indice_analyzer, dolar_analyzer])
    monitor.run()
